{
 "cells": [
  {
   "cell_type": "code",
   "execution_count": 1,
   "metadata": {},
   "outputs": [
    {
     "name": "stdout",
     "output_type": "stream",
     "text": [
      "提示：当前环境pandas版本为0.25，get_price与get_fundamentals_continuously接口panel参数将固定为False\n",
      "注意：0.25以上版本pandas不支持panel，如使用该数据结构和相关函数请注意修改\n"
     ]
    }
   ],
   "source": [
    "import jqdatasdk as jq"
   ]
  },
  {
   "cell_type": "code",
   "execution_count": 2,
   "metadata": {},
   "outputs": [
    {
     "name": "stdout",
     "output_type": "stream",
     "text": [
      "auth success \n"
     ]
    }
   ],
   "source": [
    "jq.auth('13600537096','g54jHtAUcitnxvV') "
   ]
  },
  {
   "cell_type": "code",
   "execution_count": 3,
   "metadata": {},
   "outputs": [
    {
     "data": {
      "text/plain": [
       "{'total': 1000000, 'spare': 1000000}"
      ]
     },
     "execution_count": 3,
     "metadata": {},
     "output_type": "execute_result"
    }
   ],
   "source": [
    "jq.get_query_count()"
   ]
  },
  {
   "cell_type": "markdown",
   "metadata": {},
   "source": [
    "## 读取Fund Main表"
   ]
  },
  {
   "cell_type": "code",
   "execution_count": 4,
   "metadata": {},
   "outputs": [],
   "source": [
    "import pandas as pd\n",
    "import numpy as np"
   ]
  },
  {
   "cell_type": "code",
   "execution_count": 5,
   "metadata": {},
   "outputs": [],
   "source": [
    "fund_main = jq.finance.run_query(jq.query(jq.finance.FUND_MAIN_INFO))"
   ]
  },
  {
   "cell_type": "code",
   "execution_count": 6,
   "metadata": {},
   "outputs": [
    {
     "name": "stdout",
     "output_type": "stream",
     "text": [
      "<class 'pandas.core.frame.DataFrame'>\n",
      "Int64Index: 5000 entries, 0 to 4999\n",
      "Data columns (total 11 columns):\n",
      "id                          5000 non-null int64\n",
      "main_code                   5000 non-null object\n",
      "name                        5000 non-null object\n",
      "advisor                     5000 non-null object\n",
      "trustee                     5000 non-null object\n",
      "operate_mode_id             5000 non-null int64\n",
      "operate_mode                5000 non-null object\n",
      "underlying_asset_type_id    5000 non-null int64\n",
      "underlying_asset_type       5000 non-null object\n",
      "start_date                  4971 non-null object\n",
      "end_date                    678 non-null object\n",
      "dtypes: int64(3), object(8)\n",
      "memory usage: 468.8+ KB\n"
     ]
    }
   ],
   "source": [
    "fund_main.info()"
   ]
  },
  {
   "cell_type": "code",
   "execution_count": 7,
   "metadata": {},
   "outputs": [],
   "source": [
    "import pandas as pd\n",
    "\n",
    "fund_main['start_date']= pd.to_datetime(fund_main['start_date'])"
   ]
  },
  {
   "cell_type": "code",
   "execution_count": 8,
   "metadata": {},
   "outputs": [],
   "source": [
    "fund_main['end_date']= pd.to_datetime(fund_main['end_date'])"
   ]
  },
  {
   "cell_type": "code",
   "execution_count": 9,
   "metadata": {},
   "outputs": [],
   "source": [
    "fund_main = fund_main.drop(['id'],axis=1)"
   ]
  },
  {
   "cell_type": "code",
   "execution_count": 10,
   "metadata": {},
   "outputs": [
    {
     "name": "stdout",
     "output_type": "stream",
     "text": [
      "<class 'pandas.core.frame.DataFrame'>\n",
      "Int64Index: 5000 entries, 0 to 4999\n",
      "Data columns (total 10 columns):\n",
      "main_code                   5000 non-null object\n",
      "name                        5000 non-null object\n",
      "advisor                     5000 non-null object\n",
      "trustee                     5000 non-null object\n",
      "operate_mode_id             5000 non-null int64\n",
      "operate_mode                5000 non-null object\n",
      "underlying_asset_type_id    5000 non-null int64\n",
      "underlying_asset_type       5000 non-null object\n",
      "start_date                  4971 non-null datetime64[ns]\n",
      "end_date                    678 non-null datetime64[ns]\n",
      "dtypes: datetime64[ns](2), int64(2), object(6)\n",
      "memory usage: 429.7+ KB\n"
     ]
    }
   ],
   "source": [
    "fund_main.info()"
   ]
  },
  {
   "cell_type": "code",
   "execution_count": 11,
   "metadata": {},
   "outputs": [],
   "source": [
    "import sqlite3\n",
    "\n",
    "conn = sqlite3.connect('db.sqlite3')"
   ]
  },
  {
   "cell_type": "code",
   "execution_count": 17,
   "metadata": {
    "collapsed": true,
    "jupyter": {
     "outputs_hidden": true
    }
   },
   "outputs": [
    {
     "data": {
      "text/html": [
       "<div>\n",
       "<style scoped>\n",
       "    .dataframe tbody tr th:only-of-type {\n",
       "        vertical-align: middle;\n",
       "    }\n",
       "\n",
       "    .dataframe tbody tr th {\n",
       "        vertical-align: top;\n",
       "    }\n",
       "\n",
       "    .dataframe thead th {\n",
       "        text-align: right;\n",
       "    }\n",
       "</style>\n",
       "<table border=\"1\" class=\"dataframe\">\n",
       "  <thead>\n",
       "    <tr style=\"text-align: right;\">\n",
       "      <th></th>\n",
       "      <th>main_code</th>\n",
       "      <th>name</th>\n",
       "      <th>advisor</th>\n",
       "      <th>trustee</th>\n",
       "      <th>operate_mode_id</th>\n",
       "      <th>operate_mode</th>\n",
       "      <th>underlying_asset_type_id</th>\n",
       "      <th>underlying_asset_type</th>\n",
       "      <th>start_date</th>\n",
       "      <th>end_date</th>\n",
       "    </tr>\n",
       "  </thead>\n",
       "  <tbody>\n",
       "    <tr>\n",
       "      <th>0</th>\n",
       "      <td>000001</td>\n",
       "      <td>华夏成长</td>\n",
       "      <td>华夏基金管理有限公司</td>\n",
       "      <td>中国建设银行股份有限公司</td>\n",
       "      <td>401001</td>\n",
       "      <td>开放式基金</td>\n",
       "      <td>402004</td>\n",
       "      <td>混合型</td>\n",
       "      <td>2001-12-18</td>\n",
       "      <td>NaT</td>\n",
       "    </tr>\n",
       "    <tr>\n",
       "      <th>1</th>\n",
       "      <td>000003</td>\n",
       "      <td>中海可转债债券</td>\n",
       "      <td>中海基金管理有限公司</td>\n",
       "      <td>中国农业银行股份有限公司</td>\n",
       "      <td>401001</td>\n",
       "      <td>开放式基金</td>\n",
       "      <td>402003</td>\n",
       "      <td>债券型</td>\n",
       "      <td>2013-03-20</td>\n",
       "      <td>NaT</td>\n",
       "    </tr>\n",
       "    <tr>\n",
       "      <th>2</th>\n",
       "      <td>000005</td>\n",
       "      <td>嘉实增强信用</td>\n",
       "      <td>嘉实基金管理有限公司</td>\n",
       "      <td>中国工商银行股份有限公司</td>\n",
       "      <td>401001</td>\n",
       "      <td>开放式基金</td>\n",
       "      <td>402003</td>\n",
       "      <td>债券型</td>\n",
       "      <td>2013-03-08</td>\n",
       "      <td>NaT</td>\n",
       "    </tr>\n",
       "    <tr>\n",
       "      <th>3</th>\n",
       "      <td>000007</td>\n",
       "      <td>鹏华国企债</td>\n",
       "      <td>鹏华基金管理有限公司</td>\n",
       "      <td>中国工商银行股份有限公司</td>\n",
       "      <td>401001</td>\n",
       "      <td>开放式基金</td>\n",
       "      <td>402003</td>\n",
       "      <td>债券型</td>\n",
       "      <td>2013-03-08</td>\n",
       "      <td>2018-08-08</td>\n",
       "    </tr>\n",
       "    <tr>\n",
       "      <th>4</th>\n",
       "      <td>000008</td>\n",
       "      <td>嘉实中证500ETF联接基金</td>\n",
       "      <td>嘉实基金管理有限公司</td>\n",
       "      <td>中国建设银行股份有限公司</td>\n",
       "      <td>401001</td>\n",
       "      <td>开放式基金</td>\n",
       "      <td>402005</td>\n",
       "      <td>基金型</td>\n",
       "      <td>2013-03-22</td>\n",
       "      <td>NaT</td>\n",
       "    </tr>\n",
       "    <tr>\n",
       "      <th>...</th>\n",
       "      <td>...</td>\n",
       "      <td>...</td>\n",
       "      <td>...</td>\n",
       "      <td>...</td>\n",
       "      <td>...</td>\n",
       "      <td>...</td>\n",
       "      <td>...</td>\n",
       "      <td>...</td>\n",
       "      <td>...</td>\n",
       "      <td>...</td>\n",
       "    </tr>\n",
       "    <tr>\n",
       "      <th>4995</th>\n",
       "      <td>150053</td>\n",
       "      <td>泰达500A</td>\n",
       "      <td>泰达宏利基金管理有限公司</td>\n",
       "      <td>中国银行股份有限公司</td>\n",
       "      <td>401002</td>\n",
       "      <td>封闭式基金</td>\n",
       "      <td>402001</td>\n",
       "      <td>股票型</td>\n",
       "      <td>2011-12-01</td>\n",
       "      <td>NaT</td>\n",
       "    </tr>\n",
       "    <tr>\n",
       "      <th>4996</th>\n",
       "      <td>150055</td>\n",
       "      <td>500A</td>\n",
       "      <td>工银瑞信基金管理有限公司</td>\n",
       "      <td>中国银行股份有限公司</td>\n",
       "      <td>401002</td>\n",
       "      <td>封闭式基金</td>\n",
       "      <td>402001</td>\n",
       "      <td>股票型</td>\n",
       "      <td>2012-01-31</td>\n",
       "      <td>NaT</td>\n",
       "    </tr>\n",
       "    <tr>\n",
       "      <th>4997</th>\n",
       "      <td>150057</td>\n",
       "      <td>中小300A</td>\n",
       "      <td>长城基金管理有限公司</td>\n",
       "      <td>中国建设银行股份有限公司</td>\n",
       "      <td>401002</td>\n",
       "      <td>封闭式基金</td>\n",
       "      <td>402001</td>\n",
       "      <td>股票型</td>\n",
       "      <td>2012-01-30</td>\n",
       "      <td>2018-08-13</td>\n",
       "    </tr>\n",
       "    <tr>\n",
       "      <th>4998</th>\n",
       "      <td>150059</td>\n",
       "      <td>资源A级</td>\n",
       "      <td>银华基金管理股份有限公司</td>\n",
       "      <td>中国银行股份有限公司</td>\n",
       "      <td>401002</td>\n",
       "      <td>封闭式基金</td>\n",
       "      <td>402001</td>\n",
       "      <td>股票型</td>\n",
       "      <td>2011-12-08</td>\n",
       "      <td>NaT</td>\n",
       "    </tr>\n",
       "    <tr>\n",
       "      <th>4999</th>\n",
       "      <td>150064</td>\n",
       "      <td>同瑞A</td>\n",
       "      <td>长盛基金管理有限公司</td>\n",
       "      <td>中国农业银行股份有限公司</td>\n",
       "      <td>401002</td>\n",
       "      <td>封闭式基金</td>\n",
       "      <td>402001</td>\n",
       "      <td>股票型</td>\n",
       "      <td>2011-12-06</td>\n",
       "      <td>NaT</td>\n",
       "    </tr>\n",
       "  </tbody>\n",
       "</table>\n",
       "<p>5000 rows × 10 columns</p>\n",
       "</div>"
      ],
      "text/plain": [
       "     main_code            name       advisor       trustee  operate_mode_id  \\\n",
       "0       000001            华夏成长    华夏基金管理有限公司  中国建设银行股份有限公司           401001   \n",
       "1       000003         中海可转债债券    中海基金管理有限公司  中国农业银行股份有限公司           401001   \n",
       "2       000005          嘉实增强信用    嘉实基金管理有限公司  中国工商银行股份有限公司           401001   \n",
       "3       000007           鹏华国企债    鹏华基金管理有限公司  中国工商银行股份有限公司           401001   \n",
       "4       000008  嘉实中证500ETF联接基金    嘉实基金管理有限公司  中国建设银行股份有限公司           401001   \n",
       "...        ...             ...           ...           ...              ...   \n",
       "4995    150053          泰达500A  泰达宏利基金管理有限公司    中国银行股份有限公司           401002   \n",
       "4996    150055            500A  工银瑞信基金管理有限公司    中国银行股份有限公司           401002   \n",
       "4997    150057          中小300A    长城基金管理有限公司  中国建设银行股份有限公司           401002   \n",
       "4998    150059            资源A级  银华基金管理股份有限公司    中国银行股份有限公司           401002   \n",
       "4999    150064             同瑞A    长盛基金管理有限公司  中国农业银行股份有限公司           401002   \n",
       "\n",
       "     operate_mode  underlying_asset_type_id underlying_asset_type start_date  \\\n",
       "0           开放式基金                    402004                   混合型 2001-12-18   \n",
       "1           开放式基金                    402003                   债券型 2013-03-20   \n",
       "2           开放式基金                    402003                   债券型 2013-03-08   \n",
       "3           开放式基金                    402003                   债券型 2013-03-08   \n",
       "4           开放式基金                    402005                   基金型 2013-03-22   \n",
       "...           ...                       ...                   ...        ...   \n",
       "4995        封闭式基金                    402001                   股票型 2011-12-01   \n",
       "4996        封闭式基金                    402001                   股票型 2012-01-31   \n",
       "4997        封闭式基金                    402001                   股票型 2012-01-30   \n",
       "4998        封闭式基金                    402001                   股票型 2011-12-08   \n",
       "4999        封闭式基金                    402001                   股票型 2011-12-06   \n",
       "\n",
       "       end_date  \n",
       "0           NaT  \n",
       "1           NaT  \n",
       "2           NaT  \n",
       "3    2018-08-08  \n",
       "4           NaT  \n",
       "...         ...  \n",
       "4995        NaT  \n",
       "4996        NaT  \n",
       "4997 2018-08-13  \n",
       "4998        NaT  \n",
       "4999        NaT  \n",
       "\n",
       "[5000 rows x 10 columns]"
      ]
     },
     "execution_count": 17,
     "metadata": {},
     "output_type": "execute_result"
    }
   ],
   "source": [
    "fund_main"
   ]
  },
  {
   "cell_type": "code",
   "execution_count": 12,
   "metadata": {},
   "outputs": [
    {
     "data": {
      "text/plain": [
       "<sqlite3.Cursor at 0x1fd15e01c70>"
      ]
     },
     "execution_count": 12,
     "metadata": {},
     "output_type": "execute_result"
    }
   ],
   "source": [
    "sql = \"delete from funds_fundmain\"\n",
    "conn.execute(sql)"
   ]
  },
  {
   "cell_type": "code",
   "execution_count": 13,
   "metadata": {},
   "outputs": [],
   "source": [
    "conn.commit()"
   ]
  },
  {
   "cell_type": "code",
   "execution_count": 14,
   "metadata": {},
   "outputs": [],
   "source": [
    "fund_main.to_sql('funds_fundmain',conn,if_exists='append',index=False)"
   ]
  },
  {
   "cell_type": "markdown",
   "metadata": {},
   "source": [
    "## 读取基金净值数据\n",
    "\n",
    "读取前100个基金的数据"
   ]
  },
  {
   "cell_type": "code",
   "execution_count": 15,
   "metadata": {},
   "outputs": [
    {
     "data": {
      "text/plain": [
       "0     000001\n",
       "1     000003\n",
       "2     000005\n",
       "3     000007\n",
       "4     000008\n",
       "       ...  \n",
       "95    000173\n",
       "96    000174\n",
       "97    000176\n",
       "98    000177\n",
       "99    000178\n",
       "Name: main_code, Length: 100, dtype: object"
      ]
     },
     "execution_count": 15,
     "metadata": {},
     "output_type": "execute_result"
    }
   ],
   "source": [
    "fund_main.main_code[:100]"
   ]
  },
  {
   "cell_type": "markdown",
   "metadata": {},
   "source": [
    "读取净值数据"
   ]
  },
  {
   "cell_type": "code",
   "execution_count": 16,
   "metadata": {},
   "outputs": [
    {
     "name": "stdout",
     "output_type": "stream",
     "text": [
      "网络错误：'TTransportException(type=4, message='TSocket read 0 bytes')', 将进行重试\n"
     ]
    }
   ],
   "source": [
    "fund_net_value = jq.finance.run_query(jq.query(jq.finance.FUND_NET_VALUE).filter(jq.finance.FUND_NET_VALUE.code==fund_main.main_code[0],jq.finance.FUND_NET_VALUE.day>'2010-01-01'))"
   ]
  },
  {
   "cell_type": "code",
   "execution_count": 17,
   "metadata": {},
   "outputs": [
    {
     "name": "stdout",
     "output_type": "stream",
     "text": [
      "<class 'pandas.core.frame.DataFrame'>\n",
      "Int64Index: 2663 entries, 0 to 2662\n",
      "Data columns (total 8 columns):\n",
      "id                    2663 non-null int64\n",
      "code                  2663 non-null object\n",
      "day                   2663 non-null object\n",
      "net_value             2663 non-null float64\n",
      "sum_value             2663 non-null float64\n",
      "factor                2663 non-null float64\n",
      "acc_factor            2663 non-null float64\n",
      "refactor_net_value    2663 non-null float64\n",
      "dtypes: float64(5), int64(1), object(2)\n",
      "memory usage: 187.2+ KB\n"
     ]
    }
   ],
   "source": [
    "fund_net_value.info()"
   ]
  },
  {
   "cell_type": "markdown",
   "metadata": {},
   "source": [
    "day字段转换日期格式"
   ]
  },
  {
   "cell_type": "code",
   "execution_count": 25,
   "metadata": {},
   "outputs": [],
   "source": [
    "fund_net_value['day']= pd.to_datetime(fund_net_value['day'])"
   ]
  },
  {
   "cell_type": "code",
   "execution_count": 31,
   "metadata": {},
   "outputs": [
    {
     "data": {
      "text/plain": [
       "Timestamp('2010-01-04 00:00:00')"
      ]
     },
     "execution_count": 31,
     "metadata": {},
     "output_type": "execute_result"
    }
   ],
   "source": [
    "fund_net_value['day'][0]"
   ]
  },
  {
   "cell_type": "markdown",
   "metadata": {},
   "source": [
    "计算日收益率"
   ]
  },
  {
   "cell_type": "code",
   "execution_count": 54,
   "metadata": {},
   "outputs": [],
   "source": [
    "fund_net_value['daily_return'] = np.log(fund_net_value['sum_value']/fund_net_value['sum_value'].shift(1))*100"
   ]
  },
  {
   "cell_type": "markdown",
   "metadata": {},
   "source": [
    "计算月收益率"
   ]
  },
  {
   "cell_type": "code",
   "execution_count": 55,
   "metadata": {},
   "outputs": [],
   "source": [
    "fund_net_value['month_return'] = np.log(fund_net_value['sum_value']/fund_net_value['sum_value'].shift(22))*100"
   ]
  },
  {
   "cell_type": "markdown",
   "metadata": {},
   "source": [
    "计算季度收益率"
   ]
  },
  {
   "cell_type": "code",
   "execution_count": 56,
   "metadata": {},
   "outputs": [],
   "source": [
    "fund_net_value['quarter_return'] = np.log(fund_net_value['sum_value']/fund_net_value['sum_value'].shift(64))*100"
   ]
  },
  {
   "cell_type": "markdown",
   "metadata": {},
   "source": [
    "计算累计收益率"
   ]
  },
  {
   "cell_type": "code",
   "execution_count": 57,
   "metadata": {},
   "outputs": [],
   "source": [
    "fund_net_value['total_return'] = np.log(fund_net_value['sum_value']/fund_net_value['sum_value'][0])*100"
   ]
  },
  {
   "cell_type": "code",
   "execution_count": 58,
   "metadata": {},
   "outputs": [
    {
     "data": {
      "text/html": [
       "<div>\n",
       "<style scoped>\n",
       "    .dataframe tbody tr th:only-of-type {\n",
       "        vertical-align: middle;\n",
       "    }\n",
       "\n",
       "    .dataframe tbody tr th {\n",
       "        vertical-align: top;\n",
       "    }\n",
       "\n",
       "    .dataframe thead th {\n",
       "        text-align: right;\n",
       "    }\n",
       "</style>\n",
       "<table border=\"1\" class=\"dataframe\">\n",
       "  <thead>\n",
       "    <tr style=\"text-align: right;\">\n",
       "      <th></th>\n",
       "      <th>id</th>\n",
       "      <th>code</th>\n",
       "      <th>day</th>\n",
       "      <th>net_value</th>\n",
       "      <th>sum_value</th>\n",
       "      <th>factor</th>\n",
       "      <th>acc_factor</th>\n",
       "      <th>refactor_net_value</th>\n",
       "      <th>day_return</th>\n",
       "      <th>day_month_return</th>\n",
       "      <th>day_quarter_return</th>\n",
       "      <th>day_sum_return</th>\n",
       "      <th>daily_return</th>\n",
       "      <th>month_return</th>\n",
       "      <th>quarter_return</th>\n",
       "      <th>total_return</th>\n",
       "    </tr>\n",
       "  </thead>\n",
       "  <tbody>\n",
       "    <tr>\n",
       "      <th>0</th>\n",
       "      <td>2415743</td>\n",
       "      <td>000001</td>\n",
       "      <td>2010-01-04</td>\n",
       "      <td>1.469</td>\n",
       "      <td>3.250</td>\n",
       "      <td>1.0</td>\n",
       "      <td>3.442713</td>\n",
       "      <td>5.057345</td>\n",
       "      <td>NaN</td>\n",
       "      <td>NaN</td>\n",
       "      <td>NaN</td>\n",
       "      <td>0.000000</td>\n",
       "      <td>NaN</td>\n",
       "      <td>NaN</td>\n",
       "      <td>NaN</td>\n",
       "      <td>0.000000</td>\n",
       "    </tr>\n",
       "    <tr>\n",
       "      <th>1</th>\n",
       "      <td>2415744</td>\n",
       "      <td>000001</td>\n",
       "      <td>2010-01-05</td>\n",
       "      <td>1.476</td>\n",
       "      <td>3.257</td>\n",
       "      <td>1.0</td>\n",
       "      <td>3.442713</td>\n",
       "      <td>5.081444</td>\n",
       "      <td>0.215153</td>\n",
       "      <td>NaN</td>\n",
       "      <td>NaN</td>\n",
       "      <td>0.215153</td>\n",
       "      <td>0.215153</td>\n",
       "      <td>NaN</td>\n",
       "      <td>NaN</td>\n",
       "      <td>0.215153</td>\n",
       "    </tr>\n",
       "    <tr>\n",
       "      <th>2</th>\n",
       "      <td>2415745</td>\n",
       "      <td>000001</td>\n",
       "      <td>2010-01-06</td>\n",
       "      <td>1.470</td>\n",
       "      <td>3.251</td>\n",
       "      <td>1.0</td>\n",
       "      <td>3.442713</td>\n",
       "      <td>5.060788</td>\n",
       "      <td>-0.184388</td>\n",
       "      <td>NaN</td>\n",
       "      <td>NaN</td>\n",
       "      <td>0.030764</td>\n",
       "      <td>-0.184388</td>\n",
       "      <td>NaN</td>\n",
       "      <td>NaN</td>\n",
       "      <td>0.030764</td>\n",
       "    </tr>\n",
       "    <tr>\n",
       "      <th>3</th>\n",
       "      <td>2415746</td>\n",
       "      <td>000001</td>\n",
       "      <td>2010-01-07</td>\n",
       "      <td>1.443</td>\n",
       "      <td>3.224</td>\n",
       "      <td>1.0</td>\n",
       "      <td>3.442713</td>\n",
       "      <td>4.967835</td>\n",
       "      <td>-0.833982</td>\n",
       "      <td>NaN</td>\n",
       "      <td>NaN</td>\n",
       "      <td>-0.803217</td>\n",
       "      <td>-0.833982</td>\n",
       "      <td>NaN</td>\n",
       "      <td>NaN</td>\n",
       "      <td>-0.803217</td>\n",
       "    </tr>\n",
       "    <tr>\n",
       "      <th>4</th>\n",
       "      <td>2415747</td>\n",
       "      <td>000001</td>\n",
       "      <td>2010-01-08</td>\n",
       "      <td>1.447</td>\n",
       "      <td>3.228</td>\n",
       "      <td>1.0</td>\n",
       "      <td>3.442713</td>\n",
       "      <td>4.981606</td>\n",
       "      <td>0.123993</td>\n",
       "      <td>NaN</td>\n",
       "      <td>NaN</td>\n",
       "      <td>-0.679225</td>\n",
       "      <td>0.123993</td>\n",
       "      <td>NaN</td>\n",
       "      <td>NaN</td>\n",
       "      <td>-0.679225</td>\n",
       "    </tr>\n",
       "    <tr>\n",
       "      <th>...</th>\n",
       "      <td>...</td>\n",
       "      <td>...</td>\n",
       "      <td>...</td>\n",
       "      <td>...</td>\n",
       "      <td>...</td>\n",
       "      <td>...</td>\n",
       "      <td>...</td>\n",
       "      <td>...</td>\n",
       "      <td>...</td>\n",
       "      <td>...</td>\n",
       "      <td>...</td>\n",
       "      <td>...</td>\n",
       "      <td>...</td>\n",
       "      <td>...</td>\n",
       "      <td>...</td>\n",
       "      <td>...</td>\n",
       "    </tr>\n",
       "    <tr>\n",
       "      <th>2658</th>\n",
       "      <td>24416579</td>\n",
       "      <td>000001</td>\n",
       "      <td>2020-11-30</td>\n",
       "      <td>1.401</td>\n",
       "      <td>3.862</td>\n",
       "      <td>1.0</td>\n",
       "      <td>5.978932</td>\n",
       "      <td>8.376484</td>\n",
       "      <td>-0.155239</td>\n",
       "      <td>-0.490767</td>\n",
       "      <td>-0.696687</td>\n",
       "      <td>17.253019</td>\n",
       "      <td>-0.155239</td>\n",
       "      <td>-0.490767</td>\n",
       "      <td>-0.696687</td>\n",
       "      <td>17.253019</td>\n",
       "    </tr>\n",
       "    <tr>\n",
       "      <th>2659</th>\n",
       "      <td>24429008</td>\n",
       "      <td>000001</td>\n",
       "      <td>2020-12-01</td>\n",
       "      <td>1.417</td>\n",
       "      <td>3.878</td>\n",
       "      <td>1.0</td>\n",
       "      <td>5.978932</td>\n",
       "      <td>8.472147</td>\n",
       "      <td>0.413437</td>\n",
       "      <td>0.465237</td>\n",
       "      <td>-0.180343</td>\n",
       "      <td>17.666456</td>\n",
       "      <td>0.413437</td>\n",
       "      <td>0.465237</td>\n",
       "      <td>-0.180343</td>\n",
       "      <td>17.666456</td>\n",
       "    </tr>\n",
       "    <tr>\n",
       "      <th>2660</th>\n",
       "      <td>24438538</td>\n",
       "      <td>000001</td>\n",
       "      <td>2020-12-02</td>\n",
       "      <td>1.417</td>\n",
       "      <td>3.878</td>\n",
       "      <td>1.0</td>\n",
       "      <td>5.978932</td>\n",
       "      <td>8.472147</td>\n",
       "      <td>0.000000</td>\n",
       "      <td>0.335787</td>\n",
       "      <td>0.594855</td>\n",
       "      <td>17.666456</td>\n",
       "      <td>0.000000</td>\n",
       "      <td>0.335787</td>\n",
       "      <td>0.594855</td>\n",
       "      <td>17.666456</td>\n",
       "    </tr>\n",
       "    <tr>\n",
       "      <th>2661</th>\n",
       "      <td>24449728</td>\n",
       "      <td>000001</td>\n",
       "      <td>2020-12-03</td>\n",
       "      <td>1.418</td>\n",
       "      <td>3.879</td>\n",
       "      <td>1.0</td>\n",
       "      <td>5.978932</td>\n",
       "      <td>8.478126</td>\n",
       "      <td>0.025783</td>\n",
       "      <td>0.077369</td>\n",
       "      <td>0.232288</td>\n",
       "      <td>17.692239</td>\n",
       "      <td>0.025783</td>\n",
       "      <td>0.077369</td>\n",
       "      <td>0.232288</td>\n",
       "      <td>17.692239</td>\n",
       "    </tr>\n",
       "    <tr>\n",
       "      <th>2662</th>\n",
       "      <td>24459948</td>\n",
       "      <td>000001</td>\n",
       "      <td>2020-12-04</td>\n",
       "      <td>1.422</td>\n",
       "      <td>3.883</td>\n",
       "      <td>1.0</td>\n",
       "      <td>5.978932</td>\n",
       "      <td>8.502041</td>\n",
       "      <td>0.103066</td>\n",
       "      <td>0.051520</td>\n",
       "      <td>-0.231511</td>\n",
       "      <td>17.795305</td>\n",
       "      <td>0.103066</td>\n",
       "      <td>0.051520</td>\n",
       "      <td>-0.231511</td>\n",
       "      <td>17.795305</td>\n",
       "    </tr>\n",
       "  </tbody>\n",
       "</table>\n",
       "<p>2663 rows × 16 columns</p>\n",
       "</div>"
      ],
      "text/plain": [
       "            id    code        day  net_value  sum_value  factor  acc_factor  \\\n",
       "0      2415743  000001 2010-01-04      1.469      3.250     1.0    3.442713   \n",
       "1      2415744  000001 2010-01-05      1.476      3.257     1.0    3.442713   \n",
       "2      2415745  000001 2010-01-06      1.470      3.251     1.0    3.442713   \n",
       "3      2415746  000001 2010-01-07      1.443      3.224     1.0    3.442713   \n",
       "4      2415747  000001 2010-01-08      1.447      3.228     1.0    3.442713   \n",
       "...        ...     ...        ...        ...        ...     ...         ...   \n",
       "2658  24416579  000001 2020-11-30      1.401      3.862     1.0    5.978932   \n",
       "2659  24429008  000001 2020-12-01      1.417      3.878     1.0    5.978932   \n",
       "2660  24438538  000001 2020-12-02      1.417      3.878     1.0    5.978932   \n",
       "2661  24449728  000001 2020-12-03      1.418      3.879     1.0    5.978932   \n",
       "2662  24459948  000001 2020-12-04      1.422      3.883     1.0    5.978932   \n",
       "\n",
       "      refactor_net_value  day_return  day_month_return  day_quarter_return  \\\n",
       "0               5.057345         NaN               NaN                 NaN   \n",
       "1               5.081444    0.215153               NaN                 NaN   \n",
       "2               5.060788   -0.184388               NaN                 NaN   \n",
       "3               4.967835   -0.833982               NaN                 NaN   \n",
       "4               4.981606    0.123993               NaN                 NaN   \n",
       "...                  ...         ...               ...                 ...   \n",
       "2658            8.376484   -0.155239         -0.490767           -0.696687   \n",
       "2659            8.472147    0.413437          0.465237           -0.180343   \n",
       "2660            8.472147    0.000000          0.335787            0.594855   \n",
       "2661            8.478126    0.025783          0.077369            0.232288   \n",
       "2662            8.502041    0.103066          0.051520           -0.231511   \n",
       "\n",
       "      day_sum_return  daily_return  month_return  quarter_return  total_return  \n",
       "0           0.000000           NaN           NaN             NaN      0.000000  \n",
       "1           0.215153      0.215153           NaN             NaN      0.215153  \n",
       "2           0.030764     -0.184388           NaN             NaN      0.030764  \n",
       "3          -0.803217     -0.833982           NaN             NaN     -0.803217  \n",
       "4          -0.679225      0.123993           NaN             NaN     -0.679225  \n",
       "...              ...           ...           ...             ...           ...  \n",
       "2658       17.253019     -0.155239     -0.490767       -0.696687     17.253019  \n",
       "2659       17.666456      0.413437      0.465237       -0.180343     17.666456  \n",
       "2660       17.666456      0.000000      0.335787        0.594855     17.666456  \n",
       "2661       17.692239      0.025783      0.077369        0.232288     17.692239  \n",
       "2662       17.795305      0.103066      0.051520       -0.231511     17.795305  \n",
       "\n",
       "[2663 rows x 16 columns]"
      ]
     },
     "execution_count": 58,
     "metadata": {},
     "output_type": "execute_result"
    }
   ],
   "source": [
    "fund_net_value"
   ]
  },
  {
   "cell_type": "code",
   "execution_count": 96,
   "metadata": {},
   "outputs": [
    {
     "data": {
      "text/plain": [
       "<sqlite3.Cursor at 0x15802930500>"
      ]
     },
     "execution_count": 96,
     "metadata": {},
     "output_type": "execute_result"
    }
   ],
   "source": [
    "conn.execute('delete from funds_fundsnetvalue')"
   ]
  },
  {
   "cell_type": "code",
   "execution_count": 97,
   "metadata": {},
   "outputs": [],
   "source": [
    "conn.commit()"
   ]
  },
  {
   "cell_type": "code",
   "execution_count": 18,
   "metadata": {},
   "outputs": [
    {
     "name": "stdout",
     "output_type": "stream",
     "text": [
      "网络错误：'TTransportException(type=4, message='TSocket read 0 bytes')', 将进行重试\n"
     ]
    }
   ],
   "source": [
    "for fund_id in fund_main.main_code[:100]:\n",
    "    #读取数据\n",
    "    fund_netvalue = jq.finance.run_query(jq.query(jq.finance.FUND_NET_VALUE).\n",
    "                     filter(jq.finance.FUND_NET_VALUE.code==fund_id,jq.finance.FUND_NET_VALUE.day>='2010-01-01'))\n",
    "    #修改字段名\n",
    "    fund_netvalue['code_id'] = fund_netvalue['code']\n",
    "    #删除id和code \n",
    "    fund_netvalue = fund_netvalue.drop(['id','code'],axis=1)\n",
    "    #day字段转换日期格式\n",
    "    fund_netvalue['day']= pd.to_datetime(fund_netvalue['day'])\n",
    "    #计算日收益率\n",
    "    fund_netvalue['daily_return'] = np.log(fund_netvalue['sum_value']/fund_netvalue['sum_value'].shift(1))*100\n",
    "    #计算月收益率\n",
    "    fund_netvalue['month_return'] = np.log(fund_netvalue['sum_value']/fund_netvalue['sum_value'].shift(22))*100\n",
    "    #计算季度收益率\n",
    "    fund_netvalue['quarter_return'] = np.log(fund_netvalue['sum_value']/fund_netvalue['sum_value'].shift(64))*100\n",
    "    #计算累计收益率\n",
    "    fund_netvalue['total_return'] = np.log(fund_netvalue['sum_value']/fund_netvalue['sum_value'][0])*100\n",
    "    #保存\n",
    "    fund_netvalue.to_sql('funds_fundsnetvalue',conn, if_exists='append',index=False)\n"
   ]
  },
  {
   "cell_type": "code",
   "execution_count": 70,
   "metadata": {},
   "outputs": [],
   "source": [
    "sql = \"select * from funds_fundsnetvalue where day='2020-12-03'\"\n",
    "myfunds = conn.execute(sql)"
   ]
  },
  {
   "cell_type": "code",
   "execution_count": 71,
   "metadata": {},
   "outputs": [],
   "source": [
    "values = myfunds.fetchall()"
   ]
  },
  {
   "cell_type": "code",
   "execution_count": 19,
   "metadata": {},
   "outputs": [],
   "source": [
    "sql = \"select fund.name, fund.main_code, netvalue.day,netvalue.net_value,netvalue.sum_value,netvalue.daily_return,netvalue.month_return, netvalue.quarter_return,netvalue.total_return from funds_fundmain as fund, funds_fundsnetvalue as netvalue where fund.main_code == netvalue.code_id and netvalue.day ='2020-12-03 00:00:00'\""
   ]
  },
  {
   "cell_type": "code",
   "execution_count": 20,
   "metadata": {},
   "outputs": [],
   "source": [
    "fundslist = pd.read_sql(sql,conn)"
   ]
  },
  {
   "cell_type": "code",
   "execution_count": 21,
   "metadata": {},
   "outputs": [
    {
     "data": {
      "text/html": [
       "<div>\n",
       "<style scoped>\n",
       "    .dataframe tbody tr th:only-of-type {\n",
       "        vertical-align: middle;\n",
       "    }\n",
       "\n",
       "    .dataframe tbody tr th {\n",
       "        vertical-align: top;\n",
       "    }\n",
       "\n",
       "    .dataframe thead th {\n",
       "        text-align: right;\n",
       "    }\n",
       "</style>\n",
       "<table border=\"1\" class=\"dataframe\">\n",
       "  <thead>\n",
       "    <tr style=\"text-align: right;\">\n",
       "      <th></th>\n",
       "      <th>name</th>\n",
       "      <th>main_code</th>\n",
       "      <th>day</th>\n",
       "      <th>net_value</th>\n",
       "      <th>sum_value</th>\n",
       "      <th>daily_return</th>\n",
       "      <th>month_return</th>\n",
       "      <th>quarter_return</th>\n",
       "      <th>total_return</th>\n",
       "    </tr>\n",
       "  </thead>\n",
       "  <tbody>\n",
       "    <tr>\n",
       "      <th>0</th>\n",
       "      <td>华夏成长</td>\n",
       "      <td>000001</td>\n",
       "      <td>2020-12-03 00:00:00</td>\n",
       "      <td>1.4180</td>\n",
       "      <td>3.879000</td>\n",
       "      <td>0.025783</td>\n",
       "      <td>0.077369</td>\n",
       "      <td>0.232288</td>\n",
       "      <td>17.692239</td>\n",
       "    </tr>\n",
       "    <tr>\n",
       "      <th>1</th>\n",
       "      <td>中海可转债债券</td>\n",
       "      <td>000003</td>\n",
       "      <td>2020-12-03 00:00:00</td>\n",
       "      <td>0.9630</td>\n",
       "      <td>1.173000</td>\n",
       "      <td>-0.510205</td>\n",
       "      <td>3.823228</td>\n",
       "      <td>2.241473</td>\n",
       "      <td>15.956457</td>\n",
       "    </tr>\n",
       "    <tr>\n",
       "      <th>2</th>\n",
       "      <td>嘉实增强信用</td>\n",
       "      <td>000005</td>\n",
       "      <td>2020-12-03 00:00:00</td>\n",
       "      <td>1.0040</td>\n",
       "      <td>1.375000</td>\n",
       "      <td>-0.072701</td>\n",
       "      <td>0.000000</td>\n",
       "      <td>0.072754</td>\n",
       "      <td>31.845373</td>\n",
       "    </tr>\n",
       "    <tr>\n",
       "      <th>3</th>\n",
       "      <td>嘉实中证500ETF联接基金</td>\n",
       "      <td>000008</td>\n",
       "      <td>2020-12-03 00:00:00</td>\n",
       "      <td>1.7482</td>\n",
       "      <td>1.814200</td>\n",
       "      <td>0.082715</td>\n",
       "      <td>2.806064</td>\n",
       "      <td>-1.948698</td>\n",
       "      <td>59.564460</td>\n",
       "    </tr>\n",
       "    <tr>\n",
       "      <th>4</th>\n",
       "      <td>易方达天天理财货币</td>\n",
       "      <td>000009</td>\n",
       "      <td>2020-12-03 00:00:00</td>\n",
       "      <td>1.0000</td>\n",
       "      <td>1.266948</td>\n",
       "      <td>0.005131</td>\n",
       "      <td>0.104400</td>\n",
       "      <td>0.298405</td>\n",
       "      <td>23.661086</td>\n",
       "    </tr>\n",
       "    <tr>\n",
       "      <th>...</th>\n",
       "      <td>...</td>\n",
       "      <td>...</td>\n",
       "      <td>...</td>\n",
       "      <td>...</td>\n",
       "      <td>...</td>\n",
       "      <td>...</td>\n",
       "      <td>...</td>\n",
       "      <td>...</td>\n",
       "      <td>...</td>\n",
       "    </tr>\n",
       "    <tr>\n",
       "      <th>79</th>\n",
       "      <td>易方达裕丰</td>\n",
       "      <td>000171</td>\n",
       "      <td>2020-12-03 00:00:00</td>\n",
       "      <td>2.0050</td>\n",
       "      <td>2.005000</td>\n",
       "      <td>0.000000</td>\n",
       "      <td>0.952150</td>\n",
       "      <td>2.117015</td>\n",
       "      <td>69.564406</td>\n",
       "    </tr>\n",
       "    <tr>\n",
       "      <th>80</th>\n",
       "      <td>华泰柏瑞量化增强混合A</td>\n",
       "      <td>000172</td>\n",
       "      <td>2020-12-03 00:00:00</td>\n",
       "      <td>1.5990</td>\n",
       "      <td>2.767000</td>\n",
       "      <td>-0.216607</td>\n",
       "      <td>1.272976</td>\n",
       "      <td>0.980578</td>\n",
       "      <td>101.776370</td>\n",
       "    </tr>\n",
       "    <tr>\n",
       "      <th>81</th>\n",
       "      <td>汇添富美丽30混合</td>\n",
       "      <td>000173</td>\n",
       "      <td>2020-12-03 00:00:00</td>\n",
       "      <td>3.1910</td>\n",
       "      <td>3.443000</td>\n",
       "      <td>0.524171</td>\n",
       "      <td>-3.341736</td>\n",
       "      <td>-5.536573</td>\n",
       "      <td>123.634318</td>\n",
       "    </tr>\n",
       "    <tr>\n",
       "      <th>82</th>\n",
       "      <td>汇添富高息债债券A</td>\n",
       "      <td>000174</td>\n",
       "      <td>2020-12-03 00:00:00</td>\n",
       "      <td>1.5770</td>\n",
       "      <td>1.612000</td>\n",
       "      <td>0.000000</td>\n",
       "      <td>-0.926218</td>\n",
       "      <td>-0.185931</td>\n",
       "      <td>47.747564</td>\n",
       "    </tr>\n",
       "    <tr>\n",
       "      <th>83</th>\n",
       "      <td>嘉实沪深300增强</td>\n",
       "      <td>000176</td>\n",
       "      <td>2020-12-03 00:00:00</td>\n",
       "      <td>1.8999</td>\n",
       "      <td>1.899900</td>\n",
       "      <td>-0.315308</td>\n",
       "      <td>4.555051</td>\n",
       "      <td>3.950919</td>\n",
       "      <td>64.180125</td>\n",
       "    </tr>\n",
       "  </tbody>\n",
       "</table>\n",
       "<p>84 rows × 9 columns</p>\n",
       "</div>"
      ],
      "text/plain": [
       "              name main_code                  day  net_value  sum_value  \\\n",
       "0             华夏成长    000001  2020-12-03 00:00:00     1.4180   3.879000   \n",
       "1          中海可转债债券    000003  2020-12-03 00:00:00     0.9630   1.173000   \n",
       "2           嘉实增强信用    000005  2020-12-03 00:00:00     1.0040   1.375000   \n",
       "3   嘉实中证500ETF联接基金    000008  2020-12-03 00:00:00     1.7482   1.814200   \n",
       "4        易方达天天理财货币    000009  2020-12-03 00:00:00     1.0000   1.266948   \n",
       "..             ...       ...                  ...        ...        ...   \n",
       "79           易方达裕丰    000171  2020-12-03 00:00:00     2.0050   2.005000   \n",
       "80     华泰柏瑞量化增强混合A    000172  2020-12-03 00:00:00     1.5990   2.767000   \n",
       "81       汇添富美丽30混合    000173  2020-12-03 00:00:00     3.1910   3.443000   \n",
       "82       汇添富高息债债券A    000174  2020-12-03 00:00:00     1.5770   1.612000   \n",
       "83       嘉实沪深300增强    000176  2020-12-03 00:00:00     1.8999   1.899900   \n",
       "\n",
       "    daily_return  month_return  quarter_return  total_return  \n",
       "0       0.025783      0.077369        0.232288     17.692239  \n",
       "1      -0.510205      3.823228        2.241473     15.956457  \n",
       "2      -0.072701      0.000000        0.072754     31.845373  \n",
       "3       0.082715      2.806064       -1.948698     59.564460  \n",
       "4       0.005131      0.104400        0.298405     23.661086  \n",
       "..           ...           ...             ...           ...  \n",
       "79      0.000000      0.952150        2.117015     69.564406  \n",
       "80     -0.216607      1.272976        0.980578    101.776370  \n",
       "81      0.524171     -3.341736       -5.536573    123.634318  \n",
       "82      0.000000     -0.926218       -0.185931     47.747564  \n",
       "83     -0.315308      4.555051        3.950919     64.180125  \n",
       "\n",
       "[84 rows x 9 columns]"
      ]
     },
     "execution_count": 21,
     "metadata": {},
     "output_type": "execute_result"
    }
   ],
   "source": [
    "fundslist"
   ]
  },
  {
   "cell_type": "code",
   "execution_count": 105,
   "metadata": {},
   "outputs": [
    {
     "data": {
      "text/html": [
       "<div>\n",
       "<style scoped>\n",
       "    .dataframe tbody tr th:only-of-type {\n",
       "        vertical-align: middle;\n",
       "    }\n",
       "\n",
       "    .dataframe tbody tr th {\n",
       "        vertical-align: top;\n",
       "    }\n",
       "\n",
       "    .dataframe thead th {\n",
       "        text-align: right;\n",
       "    }\n",
       "</style>\n",
       "<table border=\"1\" class=\"dataframe\">\n",
       "  <thead>\n",
       "    <tr style=\"text-align: right;\">\n",
       "      <th></th>\n",
       "      <th>name</th>\n",
       "      <th>day</th>\n",
       "      <th>net_value</th>\n",
       "      <th>sum_value</th>\n",
       "      <th>daily_return</th>\n",
       "      <th>month_return</th>\n",
       "      <th>quarter_return</th>\n",
       "      <th>total_return</th>\n",
       "    </tr>\n",
       "  </thead>\n",
       "  <tbody>\n",
       "    <tr>\n",
       "      <th>0</th>\n",
       "      <td>华夏成长</td>\n",
       "      <td>2010-01-04 00:00:00</td>\n",
       "      <td>1.469</td>\n",
       "      <td>3.250</td>\n",
       "      <td>NaN</td>\n",
       "      <td>NaN</td>\n",
       "      <td>NaN</td>\n",
       "      <td>0.000000</td>\n",
       "    </tr>\n",
       "    <tr>\n",
       "      <th>1</th>\n",
       "      <td>华夏成长</td>\n",
       "      <td>2010-01-05 00:00:00</td>\n",
       "      <td>1.476</td>\n",
       "      <td>3.257</td>\n",
       "      <td>0.215153</td>\n",
       "      <td>NaN</td>\n",
       "      <td>NaN</td>\n",
       "      <td>0.215153</td>\n",
       "    </tr>\n",
       "    <tr>\n",
       "      <th>2</th>\n",
       "      <td>华夏成长</td>\n",
       "      <td>2010-01-06 00:00:00</td>\n",
       "      <td>1.470</td>\n",
       "      <td>3.251</td>\n",
       "      <td>-0.184388</td>\n",
       "      <td>NaN</td>\n",
       "      <td>NaN</td>\n",
       "      <td>0.030764</td>\n",
       "    </tr>\n",
       "    <tr>\n",
       "      <th>3</th>\n",
       "      <td>华夏成长</td>\n",
       "      <td>2010-01-07 00:00:00</td>\n",
       "      <td>1.443</td>\n",
       "      <td>3.224</td>\n",
       "      <td>-0.833982</td>\n",
       "      <td>NaN</td>\n",
       "      <td>NaN</td>\n",
       "      <td>-0.803217</td>\n",
       "    </tr>\n",
       "    <tr>\n",
       "      <th>4</th>\n",
       "      <td>华夏成长</td>\n",
       "      <td>2010-01-08 00:00:00</td>\n",
       "      <td>1.447</td>\n",
       "      <td>3.228</td>\n",
       "      <td>0.123993</td>\n",
       "      <td>NaN</td>\n",
       "      <td>NaN</td>\n",
       "      <td>-0.679225</td>\n",
       "    </tr>\n",
       "    <tr>\n",
       "      <th>...</th>\n",
       "      <td>...</td>\n",
       "      <td>...</td>\n",
       "      <td>...</td>\n",
       "      <td>...</td>\n",
       "      <td>...</td>\n",
       "      <td>...</td>\n",
       "      <td>...</td>\n",
       "      <td>...</td>\n",
       "    </tr>\n",
       "    <tr>\n",
       "      <th>2658</th>\n",
       "      <td>华夏成长</td>\n",
       "      <td>2020-11-30 00:00:00</td>\n",
       "      <td>1.401</td>\n",
       "      <td>3.862</td>\n",
       "      <td>-0.155239</td>\n",
       "      <td>-0.490767</td>\n",
       "      <td>-0.696687</td>\n",
       "      <td>17.253019</td>\n",
       "    </tr>\n",
       "    <tr>\n",
       "      <th>2659</th>\n",
       "      <td>华夏成长</td>\n",
       "      <td>2020-12-01 00:00:00</td>\n",
       "      <td>1.417</td>\n",
       "      <td>3.878</td>\n",
       "      <td>0.413437</td>\n",
       "      <td>0.465237</td>\n",
       "      <td>-0.180343</td>\n",
       "      <td>17.666456</td>\n",
       "    </tr>\n",
       "    <tr>\n",
       "      <th>2660</th>\n",
       "      <td>华夏成长</td>\n",
       "      <td>2020-12-02 00:00:00</td>\n",
       "      <td>1.417</td>\n",
       "      <td>3.878</td>\n",
       "      <td>0.000000</td>\n",
       "      <td>0.335787</td>\n",
       "      <td>0.594855</td>\n",
       "      <td>17.666456</td>\n",
       "    </tr>\n",
       "    <tr>\n",
       "      <th>2661</th>\n",
       "      <td>华夏成长</td>\n",
       "      <td>2020-12-03 00:00:00</td>\n",
       "      <td>1.418</td>\n",
       "      <td>3.879</td>\n",
       "      <td>0.025783</td>\n",
       "      <td>0.077369</td>\n",
       "      <td>0.232288</td>\n",
       "      <td>17.692239</td>\n",
       "    </tr>\n",
       "    <tr>\n",
       "      <th>2662</th>\n",
       "      <td>华夏成长</td>\n",
       "      <td>2020-12-04 00:00:00</td>\n",
       "      <td>1.422</td>\n",
       "      <td>3.883</td>\n",
       "      <td>0.103066</td>\n",
       "      <td>0.051520</td>\n",
       "      <td>-0.231511</td>\n",
       "      <td>17.795305</td>\n",
       "    </tr>\n",
       "  </tbody>\n",
       "</table>\n",
       "<p>2663 rows × 8 columns</p>\n",
       "</div>"
      ],
      "text/plain": [
       "      name                  day  net_value  sum_value  daily_return  \\\n",
       "0     华夏成长  2010-01-04 00:00:00      1.469      3.250           NaN   \n",
       "1     华夏成长  2010-01-05 00:00:00      1.476      3.257      0.215153   \n",
       "2     华夏成长  2010-01-06 00:00:00      1.470      3.251     -0.184388   \n",
       "3     华夏成长  2010-01-07 00:00:00      1.443      3.224     -0.833982   \n",
       "4     华夏成长  2010-01-08 00:00:00      1.447      3.228      0.123993   \n",
       "...    ...                  ...        ...        ...           ...   \n",
       "2658  华夏成长  2020-11-30 00:00:00      1.401      3.862     -0.155239   \n",
       "2659  华夏成长  2020-12-01 00:00:00      1.417      3.878      0.413437   \n",
       "2660  华夏成长  2020-12-02 00:00:00      1.417      3.878      0.000000   \n",
       "2661  华夏成长  2020-12-03 00:00:00      1.418      3.879      0.025783   \n",
       "2662  华夏成长  2020-12-04 00:00:00      1.422      3.883      0.103066   \n",
       "\n",
       "      month_return  quarter_return  total_return  \n",
       "0              NaN             NaN      0.000000  \n",
       "1              NaN             NaN      0.215153  \n",
       "2              NaN             NaN      0.030764  \n",
       "3              NaN             NaN     -0.803217  \n",
       "4              NaN             NaN     -0.679225  \n",
       "...            ...             ...           ...  \n",
       "2658     -0.490767       -0.696687     17.253019  \n",
       "2659      0.465237       -0.180343     17.666456  \n",
       "2660      0.335787        0.594855     17.666456  \n",
       "2661      0.077369        0.232288     17.692239  \n",
       "2662      0.051520       -0.231511     17.795305  \n",
       "\n",
       "[2663 rows x 8 columns]"
      ]
     },
     "execution_count": 105,
     "metadata": {},
     "output_type": "execute_result"
    }
   ],
   "source": [
    "sql2 = \"select fund.name, netvalue.day,netvalue.net_value,netvalue.sum_value,netvalue.daily_return,netvalue.month_return, netvalue.quarter_return,netvalue.total_return from funds_fundmain as fund, funds_fundsnetvalue as netvalue where fund.main_code == netvalue.code_id and fund.main_code ='000001'\"\n",
    "\n",
    "fundslist = pd.read_sql(sql2,conn)\n",
    "\n",
    "fundslist"
   ]
  },
  {
   "cell_type": "code",
   "execution_count": null,
   "metadata": {},
   "outputs": [],
   "source": []
  }
 ],
 "metadata": {
  "kernelspec": {
   "display_name": "diango-rest",
   "language": "python",
   "name": "diango-rest"
  },
  "language_info": {
   "codemirror_mode": {
    "name": "ipython",
    "version": 3
   },
   "file_extension": ".py",
   "mimetype": "text/x-python",
   "name": "python",
   "nbconvert_exporter": "python",
   "pygments_lexer": "ipython3",
   "version": "3.7.6"
  }
 },
 "nbformat": 4,
 "nbformat_minor": 4
}
